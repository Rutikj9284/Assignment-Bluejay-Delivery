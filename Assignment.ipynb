{
  "nbformat": 4,
  "nbformat_minor": 0,
  "metadata": {
    "colab": {
      "provenance": []
    },
    "kernelspec": {
      "name": "python3",
      "display_name": "Python 3"
    },
    "language_info": {
      "name": "python"
    }
  },
  "cells": [
    {
      "cell_type": "markdown",
      "source": [
        "# Import Dataset and Libraries"
      ],
      "metadata": {
        "id": "t3ip60Ew8yRA"
      }
    },
    {
      "cell_type": "code",
      "execution_count": 1,
      "metadata": {
        "id": "UeRNDnwl8ehi"
      },
      "outputs": [],
      "source": [
        "import pandas as pd\n",
        "from datetime import datetime, timedelta"
      ]
    },
    {
      "cell_type": "code",
      "source": [
        "df = pd.read_csv('Dataset.csv')"
      ],
      "metadata": {
        "id": "OHS3vG6i86G5"
      },
      "execution_count": 2,
      "outputs": []
    },
    {
      "cell_type": "code",
      "source": [
        "df.head()"
      ],
      "metadata": {
        "colab": {
          "base_uri": "https://localhost:8080/",
          "height": 345
        },
        "id": "SRqVItD49MMr",
        "outputId": "a34dd154-c040-48b0-ac1c-fbdcd4f0a261"
      },
      "execution_count": 3,
      "outputs": [
        {
          "output_type": "execute_result",
          "data": {
            "text/plain": [
              "  Position ID Position Status                 Time             Time Out  \\\n",
              "0   WFS000054          Active                  NaN                  NaN   \n",
              "1   WFS000065          Active  09/12/2023 10:08 AM  09/12/2023 01:53 PM   \n",
              "2   WFS000065          Active  09/12/2023 02:23 PM  09/12/2023 07:02 PM   \n",
              "3   WFS000065          Active  09/13/2023 10:08 AM  09/13/2023 02:20 PM   \n",
              "4   WFS000065          Active  09/13/2023 02:50 PM  09/13/2023 08:44 PM   \n",
              "\n",
              "  Timecard Hours (as Time) Pay Cycle Start Date Pay Cycle End Date  \\\n",
              "0                      NaN                  NaN                NaN   \n",
              "1                     3:45           09/10/2023         09/23/2023   \n",
              "2                     4:39           09/10/2023         09/23/2023   \n",
              "3                     4:12           09/10/2023         09/23/2023   \n",
              "4                     5:54           09/10/2023         09/23/2023   \n",
              "\n",
              "     Employee Name  File Number  Unnamed: 9 Unnamed: 10  \n",
              "0  SiWgh, PraGhjEM           54         NaN         NaN  \n",
              "1  REsaXiaWE, XAis           65         NaN         NaN  \n",
              "2  REsaXiaWE, XAis           65         NaN         NaN  \n",
              "3  REsaXiaWE, XAis           65         NaN         NaN  \n",
              "4  REsaXiaWE, XAis           65         NaN         NaN  "
            ],
            "text/html": [
              "\n",
              "  <div id=\"df-0b5ff9bf-dac4-40be-86f8-e052a41a6bfc\" class=\"colab-df-container\">\n",
              "    <div>\n",
              "<style scoped>\n",
              "    .dataframe tbody tr th:only-of-type {\n",
              "        vertical-align: middle;\n",
              "    }\n",
              "\n",
              "    .dataframe tbody tr th {\n",
              "        vertical-align: top;\n",
              "    }\n",
              "\n",
              "    .dataframe thead th {\n",
              "        text-align: right;\n",
              "    }\n",
              "</style>\n",
              "<table border=\"1\" class=\"dataframe\">\n",
              "  <thead>\n",
              "    <tr style=\"text-align: right;\">\n",
              "      <th></th>\n",
              "      <th>Position ID</th>\n",
              "      <th>Position Status</th>\n",
              "      <th>Time</th>\n",
              "      <th>Time Out</th>\n",
              "      <th>Timecard Hours (as Time)</th>\n",
              "      <th>Pay Cycle Start Date</th>\n",
              "      <th>Pay Cycle End Date</th>\n",
              "      <th>Employee Name</th>\n",
              "      <th>File Number</th>\n",
              "      <th>Unnamed: 9</th>\n",
              "      <th>Unnamed: 10</th>\n",
              "    </tr>\n",
              "  </thead>\n",
              "  <tbody>\n",
              "    <tr>\n",
              "      <th>0</th>\n",
              "      <td>WFS000054</td>\n",
              "      <td>Active</td>\n",
              "      <td>NaN</td>\n",
              "      <td>NaN</td>\n",
              "      <td>NaN</td>\n",
              "      <td>NaN</td>\n",
              "      <td>NaN</td>\n",
              "      <td>SiWgh, PraGhjEM</td>\n",
              "      <td>54</td>\n",
              "      <td>NaN</td>\n",
              "      <td>NaN</td>\n",
              "    </tr>\n",
              "    <tr>\n",
              "      <th>1</th>\n",
              "      <td>WFS000065</td>\n",
              "      <td>Active</td>\n",
              "      <td>09/12/2023 10:08 AM</td>\n",
              "      <td>09/12/2023 01:53 PM</td>\n",
              "      <td>3:45</td>\n",
              "      <td>09/10/2023</td>\n",
              "      <td>09/23/2023</td>\n",
              "      <td>REsaXiaWE, XAis</td>\n",
              "      <td>65</td>\n",
              "      <td>NaN</td>\n",
              "      <td>NaN</td>\n",
              "    </tr>\n",
              "    <tr>\n",
              "      <th>2</th>\n",
              "      <td>WFS000065</td>\n",
              "      <td>Active</td>\n",
              "      <td>09/12/2023 02:23 PM</td>\n",
              "      <td>09/12/2023 07:02 PM</td>\n",
              "      <td>4:39</td>\n",
              "      <td>09/10/2023</td>\n",
              "      <td>09/23/2023</td>\n",
              "      <td>REsaXiaWE, XAis</td>\n",
              "      <td>65</td>\n",
              "      <td>NaN</td>\n",
              "      <td>NaN</td>\n",
              "    </tr>\n",
              "    <tr>\n",
              "      <th>3</th>\n",
              "      <td>WFS000065</td>\n",
              "      <td>Active</td>\n",
              "      <td>09/13/2023 10:08 AM</td>\n",
              "      <td>09/13/2023 02:20 PM</td>\n",
              "      <td>4:12</td>\n",
              "      <td>09/10/2023</td>\n",
              "      <td>09/23/2023</td>\n",
              "      <td>REsaXiaWE, XAis</td>\n",
              "      <td>65</td>\n",
              "      <td>NaN</td>\n",
              "      <td>NaN</td>\n",
              "    </tr>\n",
              "    <tr>\n",
              "      <th>4</th>\n",
              "      <td>WFS000065</td>\n",
              "      <td>Active</td>\n",
              "      <td>09/13/2023 02:50 PM</td>\n",
              "      <td>09/13/2023 08:44 PM</td>\n",
              "      <td>5:54</td>\n",
              "      <td>09/10/2023</td>\n",
              "      <td>09/23/2023</td>\n",
              "      <td>REsaXiaWE, XAis</td>\n",
              "      <td>65</td>\n",
              "      <td>NaN</td>\n",
              "      <td>NaN</td>\n",
              "    </tr>\n",
              "  </tbody>\n",
              "</table>\n",
              "</div>\n",
              "    <div class=\"colab-df-buttons\">\n",
              "\n",
              "  <div class=\"colab-df-container\">\n",
              "    <button class=\"colab-df-convert\" onclick=\"convertToInteractive('df-0b5ff9bf-dac4-40be-86f8-e052a41a6bfc')\"\n",
              "            title=\"Convert this dataframe to an interactive table.\"\n",
              "            style=\"display:none;\">\n",
              "\n",
              "  <svg xmlns=\"http://www.w3.org/2000/svg\" height=\"24px\" viewBox=\"0 -960 960 960\">\n",
              "    <path d=\"M120-120v-720h720v720H120Zm60-500h600v-160H180v160Zm220 220h160v-160H400v160Zm0 220h160v-160H400v160ZM180-400h160v-160H180v160Zm440 0h160v-160H620v160ZM180-180h160v-160H180v160Zm440 0h160v-160H620v160Z\"/>\n",
              "  </svg>\n",
              "    </button>\n",
              "\n",
              "  <style>\n",
              "    .colab-df-container {\n",
              "      display:flex;\n",
              "      gap: 12px;\n",
              "    }\n",
              "\n",
              "    .colab-df-convert {\n",
              "      background-color: #E8F0FE;\n",
              "      border: none;\n",
              "      border-radius: 50%;\n",
              "      cursor: pointer;\n",
              "      display: none;\n",
              "      fill: #1967D2;\n",
              "      height: 32px;\n",
              "      padding: 0 0 0 0;\n",
              "      width: 32px;\n",
              "    }\n",
              "\n",
              "    .colab-df-convert:hover {\n",
              "      background-color: #E2EBFA;\n",
              "      box-shadow: 0px 1px 2px rgba(60, 64, 67, 0.3), 0px 1px 3px 1px rgba(60, 64, 67, 0.15);\n",
              "      fill: #174EA6;\n",
              "    }\n",
              "\n",
              "    .colab-df-buttons div {\n",
              "      margin-bottom: 4px;\n",
              "    }\n",
              "\n",
              "    [theme=dark] .colab-df-convert {\n",
              "      background-color: #3B4455;\n",
              "      fill: #D2E3FC;\n",
              "    }\n",
              "\n",
              "    [theme=dark] .colab-df-convert:hover {\n",
              "      background-color: #434B5C;\n",
              "      box-shadow: 0px 1px 3px 1px rgba(0, 0, 0, 0.15);\n",
              "      filter: drop-shadow(0px 1px 2px rgba(0, 0, 0, 0.3));\n",
              "      fill: #FFFFFF;\n",
              "    }\n",
              "  </style>\n",
              "\n",
              "    <script>\n",
              "      const buttonEl =\n",
              "        document.querySelector('#df-0b5ff9bf-dac4-40be-86f8-e052a41a6bfc button.colab-df-convert');\n",
              "      buttonEl.style.display =\n",
              "        google.colab.kernel.accessAllowed ? 'block' : 'none';\n",
              "\n",
              "      async function convertToInteractive(key) {\n",
              "        const element = document.querySelector('#df-0b5ff9bf-dac4-40be-86f8-e052a41a6bfc');\n",
              "        const dataTable =\n",
              "          await google.colab.kernel.invokeFunction('convertToInteractive',\n",
              "                                                    [key], {});\n",
              "        if (!dataTable) return;\n",
              "\n",
              "        const docLinkHtml = 'Like what you see? Visit the ' +\n",
              "          '<a target=\"_blank\" href=https://colab.research.google.com/notebooks/data_table.ipynb>data table notebook</a>'\n",
              "          + ' to learn more about interactive tables.';\n",
              "        element.innerHTML = '';\n",
              "        dataTable['output_type'] = 'display_data';\n",
              "        await google.colab.output.renderOutput(dataTable, element);\n",
              "        const docLink = document.createElement('div');\n",
              "        docLink.innerHTML = docLinkHtml;\n",
              "        element.appendChild(docLink);\n",
              "      }\n",
              "    </script>\n",
              "  </div>\n",
              "\n",
              "\n",
              "<div id=\"df-d8c47932-7b5c-411e-8f3f-00e3ef80cc6b\">\n",
              "  <button class=\"colab-df-quickchart\" onclick=\"quickchart('df-d8c47932-7b5c-411e-8f3f-00e3ef80cc6b')\"\n",
              "            title=\"Suggest charts\"\n",
              "            style=\"display:none;\">\n",
              "\n",
              "<svg xmlns=\"http://www.w3.org/2000/svg\" height=\"24px\"viewBox=\"0 0 24 24\"\n",
              "     width=\"24px\">\n",
              "    <g>\n",
              "        <path d=\"M19 3H5c-1.1 0-2 .9-2 2v14c0 1.1.9 2 2 2h14c1.1 0 2-.9 2-2V5c0-1.1-.9-2-2-2zM9 17H7v-7h2v7zm4 0h-2V7h2v10zm4 0h-2v-4h2v4z\"/>\n",
              "    </g>\n",
              "</svg>\n",
              "  </button>\n",
              "\n",
              "<style>\n",
              "  .colab-df-quickchart {\n",
              "      --bg-color: #E8F0FE;\n",
              "      --fill-color: #1967D2;\n",
              "      --hover-bg-color: #E2EBFA;\n",
              "      --hover-fill-color: #174EA6;\n",
              "      --disabled-fill-color: #AAA;\n",
              "      --disabled-bg-color: #DDD;\n",
              "  }\n",
              "\n",
              "  [theme=dark] .colab-df-quickchart {\n",
              "      --bg-color: #3B4455;\n",
              "      --fill-color: #D2E3FC;\n",
              "      --hover-bg-color: #434B5C;\n",
              "      --hover-fill-color: #FFFFFF;\n",
              "      --disabled-bg-color: #3B4455;\n",
              "      --disabled-fill-color: #666;\n",
              "  }\n",
              "\n",
              "  .colab-df-quickchart {\n",
              "    background-color: var(--bg-color);\n",
              "    border: none;\n",
              "    border-radius: 50%;\n",
              "    cursor: pointer;\n",
              "    display: none;\n",
              "    fill: var(--fill-color);\n",
              "    height: 32px;\n",
              "    padding: 0;\n",
              "    width: 32px;\n",
              "  }\n",
              "\n",
              "  .colab-df-quickchart:hover {\n",
              "    background-color: var(--hover-bg-color);\n",
              "    box-shadow: 0 1px 2px rgba(60, 64, 67, 0.3), 0 1px 3px 1px rgba(60, 64, 67, 0.15);\n",
              "    fill: var(--button-hover-fill-color);\n",
              "  }\n",
              "\n",
              "  .colab-df-quickchart-complete:disabled,\n",
              "  .colab-df-quickchart-complete:disabled:hover {\n",
              "    background-color: var(--disabled-bg-color);\n",
              "    fill: var(--disabled-fill-color);\n",
              "    box-shadow: none;\n",
              "  }\n",
              "\n",
              "  .colab-df-spinner {\n",
              "    border: 2px solid var(--fill-color);\n",
              "    border-color: transparent;\n",
              "    border-bottom-color: var(--fill-color);\n",
              "    animation:\n",
              "      spin 1s steps(1) infinite;\n",
              "  }\n",
              "\n",
              "  @keyframes spin {\n",
              "    0% {\n",
              "      border-color: transparent;\n",
              "      border-bottom-color: var(--fill-color);\n",
              "      border-left-color: var(--fill-color);\n",
              "    }\n",
              "    20% {\n",
              "      border-color: transparent;\n",
              "      border-left-color: var(--fill-color);\n",
              "      border-top-color: var(--fill-color);\n",
              "    }\n",
              "    30% {\n",
              "      border-color: transparent;\n",
              "      border-left-color: var(--fill-color);\n",
              "      border-top-color: var(--fill-color);\n",
              "      border-right-color: var(--fill-color);\n",
              "    }\n",
              "    40% {\n",
              "      border-color: transparent;\n",
              "      border-right-color: var(--fill-color);\n",
              "      border-top-color: var(--fill-color);\n",
              "    }\n",
              "    60% {\n",
              "      border-color: transparent;\n",
              "      border-right-color: var(--fill-color);\n",
              "    }\n",
              "    80% {\n",
              "      border-color: transparent;\n",
              "      border-right-color: var(--fill-color);\n",
              "      border-bottom-color: var(--fill-color);\n",
              "    }\n",
              "    90% {\n",
              "      border-color: transparent;\n",
              "      border-bottom-color: var(--fill-color);\n",
              "    }\n",
              "  }\n",
              "</style>\n",
              "\n",
              "  <script>\n",
              "    async function quickchart(key) {\n",
              "      const quickchartButtonEl =\n",
              "        document.querySelector('#' + key + ' button');\n",
              "      quickchartButtonEl.disabled = true;  // To prevent multiple clicks.\n",
              "      quickchartButtonEl.classList.add('colab-df-spinner');\n",
              "      try {\n",
              "        const charts = await google.colab.kernel.invokeFunction(\n",
              "            'suggestCharts', [key], {});\n",
              "      } catch (error) {\n",
              "        console.error('Error during call to suggestCharts:', error);\n",
              "      }\n",
              "      quickchartButtonEl.classList.remove('colab-df-spinner');\n",
              "      quickchartButtonEl.classList.add('colab-df-quickchart-complete');\n",
              "    }\n",
              "    (() => {\n",
              "      let quickchartButtonEl =\n",
              "        document.querySelector('#df-d8c47932-7b5c-411e-8f3f-00e3ef80cc6b button');\n",
              "      quickchartButtonEl.style.display =\n",
              "        google.colab.kernel.accessAllowed ? 'block' : 'none';\n",
              "    })();\n",
              "  </script>\n",
              "</div>\n",
              "    </div>\n",
              "  </div>\n"
            ]
          },
          "metadata": {},
          "execution_count": 3
        }
      ]
    },
    {
      "cell_type": "markdown",
      "source": [
        "# Performing Some Operations on Dataset"
      ],
      "metadata": {
        "id": "yqzCis8O9Epn"
      }
    },
    {
      "cell_type": "code",
      "source": [
        "# Convert 'Time' and 'Time Out' columns to datetime objects\n",
        "df['Time'] = pd.to_datetime(df['Time'])\n",
        "df['Time Out'] = pd.to_datetime(df['Time Out'])\n"
      ],
      "metadata": {
        "id": "onsnOybI9I0S"
      },
      "execution_count": 4,
      "outputs": []
    },
    {
      "cell_type": "code",
      "source": [
        "# a) Employees who have worked for 7 consecutive days\n",
        "consecutive_days_threshold = 7\n",
        "consecutive_days = df.groupby('Employee Name')['Time'].diff().dt.days.eq(1).groupby(df['Employee Name']).cumsum() + 1\n",
        "consecutive_days_exceeded = consecutive_days >= consecutive_days_threshold\n",
        "employees_7_consecutive_days = df.loc[consecutive_days_exceeded, ['Employee Name', 'Position ID']].drop_duplicates()"
      ],
      "metadata": {
        "id": "3g9iFwL_9VU2"
      },
      "execution_count": 5,
      "outputs": []
    },
    {
      "cell_type": "code",
      "source": [
        "print(\"Employees who have worked for 7 consecutive days:\")\n",
        "print(employees_7_consecutive_days)"
      ],
      "metadata": {
        "colab": {
          "base_uri": "https://localhost:8080/"
        },
        "id": "4pb85FX-9e3F",
        "outputId": "66c85ff6-e775-4e5c-9df4-c7446a13793a"
      },
      "execution_count": 11,
      "outputs": [
        {
          "output_type": "stream",
          "name": "stdout",
          "text": [
            "Employees who have worked for 7 consecutive days:\n",
            "    Employee Name Position ID\n",
            "650  XiWW, JAsMiW   WFS000462\n"
          ]
        }
      ]
    },
    {
      "cell_type": "code",
      "source": [
        "# b) Employees with less than 10 hours between shifts but greater than 1 hour\n",
        "min_hours_between_shifts = 1\n",
        "max_hours_between_shifts = 10\n",
        "time_between_shifts = df['Time'] - df.groupby('Employee Name')['Time Out'].shift()\n",
        "time_between_shifts_exceeded = (time_between_shifts >= timedelta(hours=min_hours_between_shifts)) & (time_between_shifts <= timedelta(hours=max_hours_between_shifts))\n",
        "employees_between_shifts = df.loc[time_between_shifts_exceeded, ['Employee Name', 'Position ID']].drop_duplicates()"
      ],
      "metadata": {
        "id": "Y2BBVSu99uq_"
      },
      "execution_count": 7,
      "outputs": []
    },
    {
      "cell_type": "code",
      "source": [
        "print(\"\\nEmployees with less than 10 hours between shifts but greater than 1 hour:\")\n",
        "print(employees_between_shifts)"
      ],
      "metadata": {
        "colab": {
          "base_uri": "https://localhost:8080/"
        },
        "id": "eZeZsN5v94-U",
        "outputId": "34f3c4c6-a8bb-4e19-bdbf-eb22493140be"
      },
      "execution_count": 12,
      "outputs": [
        {
          "output_type": "stream",
          "name": "stdout",
          "text": [
            "\n",
            "Employees with less than 10 hours between shifts but greater than 1 hour:\n",
            "                        Employee Name Position ID\n",
            "54                   CaMaXaWE, CeghaW   WFS000153\n",
            "163                        Xee, XaCar   WFS000200\n",
            "277              De Xa Cerda, IgWaciE   WFS000318\n",
            "302                  MraW, WiXXiaC Ha   WFS000345\n",
            "592                  CEreira Jr, JEse   WFS000456\n",
            "709              GAeWdia, JAaW CarXEs   WFS000473\n",
            "940              GrACfieXd, CErWeXiAs   WFS000515\n",
            "1037  DeXgadiXXE REdarMe, ChrisMiaW S   WFS000523\n",
            "1075           HaCiXMEW, DeaWMe DevEW   WFS000536\n",
            "1162         REdrigAez, GraWdEW AWgeX   WFS000550\n"
          ]
        }
      ]
    },
    {
      "cell_type": "code",
      "source": [
        "# c) Employees who have worked for more than 14 hours in a single shift\n",
        "max_hours_single_shift = 14\n",
        "excessive_hours_single_shift = df['Time Out'] - df['Time'] > timedelta(hours=max_hours_single_shift)\n",
        "employees_excessive_hours = df.loc[excessive_hours_single_shift, ['Employee Name', 'Position ID']].drop_duplicates()"
      ],
      "metadata": {
        "id": "mkhTaljM-BOU"
      },
      "execution_count": 9,
      "outputs": []
    },
    {
      "cell_type": "code",
      "source": [
        "print(\"\\nEmployees who have worked for more than 14 hours in a single shift:\")\n",
        "print(employees_excessive_hours)"
      ],
      "metadata": {
        "colab": {
          "base_uri": "https://localhost:8080/"
        },
        "id": "0OOzAa81-Fh1",
        "outputId": "6cf73ac3-7e52-4f94-9770-414810a1b86b"
      },
      "execution_count": 13,
      "outputs": [
        {
          "output_type": "stream",
          "name": "stdout",
          "text": [
            "\n",
            "Employees who have worked for more than 14 hours in a single shift:\n",
            "                        Employee Name Position ID\n",
            "1036  DeXgadiXXE REdarMe, ChrisMiaW S   WFS000523\n"
          ]
        }
      ]
    }
  ]
}